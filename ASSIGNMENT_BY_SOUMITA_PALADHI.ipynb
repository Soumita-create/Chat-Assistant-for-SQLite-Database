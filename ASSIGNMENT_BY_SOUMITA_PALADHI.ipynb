{
  "nbformat": 4,
  "nbformat_minor": 0,
  "metadata": {
    "colab": {
      "provenance": []
    },
    "kernelspec": {
      "name": "python3",
      "display_name": "Python 3"
    },
    "language_info": {
      "name": "python"
    }
  },
  "cells": [
    {
      "cell_type": "markdown",
      "source": [
        "**Chat Assistant for SQLite Database**"
      ],
      "metadata": {
        "id": "FsMXrF1nfdEY"
      }
    },
    {
      "cell_type": "code",
      "execution_count": 98,
      "metadata": {
        "id": "1QXf4GlGuLn_"
      },
      "outputs": [],
      "source": [
        "import sqlite3\n",
        "import re\n",
        "\n",
        "#Connect to sqlite database\n",
        "conn = sqlite3.connect(\"your_database_name.db\")\n",
        "\n",
        "#Create a cursor object\n",
        "cursor = conn.cursor()"
      ]
    },
    {
      "cell_type": "code",
      "source": [
        "#Create Employees table\n",
        "\n",
        "cursor.execute(\"\"\"\n",
        "    CREATE TABLE IF NOT EXISTS Employees (\n",
        "      ID INTEGER PRIMARY KEY,\n",
        "      Name TEXT NOT NULL,\n",
        "      Department TXT NOT NULL,\n",
        "      Salary INTEGER NOT NULL,\n",
        "      Hire_Date TEXT NOT NULL\n",
        "      )\n",
        "\"\"\")"
      ],
      "metadata": {
        "colab": {
          "base_uri": "https://localhost:8080/"
        },
        "id": "ctWrK4DB0_Dh",
        "outputId": "e480c388-06c0-40a2-879c-698048f92c56"
      },
      "execution_count": 99,
      "outputs": [
        {
          "output_type": "execute_result",
          "data": {
            "text/plain": [
              "<sqlite3.Cursor at 0x797acf5e58c0>"
            ]
          },
          "metadata": {},
          "execution_count": 99
        }
      ]
    },
    {
      "cell_type": "code",
      "source": [
        "#Create Departments table\n",
        "\n",
        "cursor.execute(\"\"\"\n",
        "    CREATE TABLE IF NOT EXISTS Departments (\n",
        "      ID INTEGER PRIMARY KEY,\n",
        "      Name TEXT NOT NULL UNIQUE,\n",
        "      Manager TEXT NOT NULL\n",
        "    )\n",
        "\"\"\")\n"
      ],
      "metadata": {
        "colab": {
          "base_uri": "https://localhost:8080/"
        },
        "id": "j4fiTiFw6T0O",
        "outputId": "0508d681-93fd-4435-b886-17502eaebf71"
      },
      "execution_count": 100,
      "outputs": [
        {
          "output_type": "execute_result",
          "data": {
            "text/plain": [
              "<sqlite3.Cursor at 0x797acf5e58c0>"
            ]
          },
          "metadata": {},
          "execution_count": 100
        }
      ]
    },
    {
      "cell_type": "code",
      "source": [
        "#Insert sample data\n",
        "\n",
        "cursor.executemany(\"\"\"\n",
        "    INSERT OR IGNORE INTO Employees (ID, Name, Department, Salary, Hire_Date)\n",
        "    VALUES (?, ?, ?, ?, ?)\n",
        "\"\"\",[\n",
        "    (1, 'Alice', 'Sales', 50000, '2021-01-15'),\n",
        "    (2, 'Bob', 'Engineering', 70000, '2020-06-10'),\n",
        "    (3, 'Charlie', 'Marketing', 60000, '2022-03-20')\n",
        "])\n",
        "\n",
        "cursor.executemany(\"\"\"\n",
        "    INSERT OR IGNORE INTO Departments (ID, Name, Manager)\n",
        "    VALUES (?, ?, ?)\n",
        "\"\"\",[\n",
        "    (1, 'Sales', 'Alice'),\n",
        "    (2, 'Engineering', 'Bob'),\n",
        "    (3, 'Marketing', 'Charlie')\n",
        "])"
      ],
      "metadata": {
        "colab": {
          "base_uri": "https://localhost:8080/"
        },
        "id": "mMskcE4l8vRz",
        "outputId": "6ccced8f-1242-443a-99ce-214f6e154d57"
      },
      "execution_count": 101,
      "outputs": [
        {
          "output_type": "execute_result",
          "data": {
            "text/plain": [
              "<sqlite3.Cursor at 0x797acf5e58c0>"
            ]
          },
          "metadata": {},
          "execution_count": 101
        }
      ]
    },
    {
      "cell_type": "code",
      "source": [
        "conn.commit()\n",
        "conn.close()"
      ],
      "metadata": {
        "id": "ibBBlHlrAvna"
      },
      "execution_count": 102,
      "outputs": []
    },
    {
      "cell_type": "code",
      "source": [
        "# Function to query the database\n",
        "\n",
        "def query_database(sql, params=()):\n",
        "    try:\n",
        "        conn = sqlite3.connect(\"your_database_name.db\")\n",
        "        cursor = conn.cursor()\n",
        "        cursor.execute(sql, params)\n",
        "        results = cursor.fetchall()\n",
        "        conn.close()\n",
        "        return results\n",
        "    except sqlite3.DatabaseError as e:\n",
        "        print(f\"Database error: {e}\")\n",
        "        return []\n",
        "    except Exception as e:\n",
        "        print(f\"An error occurred: {e}\")\n",
        "        return []\n",
        "\n",
        "# Function to process user input\n",
        "\n",
        "def process_query(user_input):\n",
        "    user_input = user_input.lower()\n",
        "\n",
        "# Match user query patterns\n",
        "\n",
        "    if match := re.search(r\"show me all employees in the (.+) department\", user_input):\n",
        "        department = match.group(1).capitalize()\n",
        "        return query_database(\"SELECT Name FROM Employees WHERE Department = ?\", (department,))\n",
        "\n",
        "    elif match := re.search(r\"who is the manager of the (.+) department\", user_input):\n",
        "        department = match.group(1).capitalize()\n",
        "        return query_database(\"SELECT Manager FROM Departments WHERE Name = ?\", (department,))\n",
        "\n",
        "    elif match := re.search(r\"list all employees hired after (\\d{4}-\\d{2}-\\d{2})\", user_input):\n",
        "        date = match.group(1)\n",
        "        return query_database(\"SELECT Name FROM Employees WHERE Hire_Date > ?\", (date,))\n",
        "\n",
        "    elif match := re.search(r\"what is the total salary expense for the (.+) department\", user_input):\n",
        "        department = match.group(1).capitalize()\n",
        "        result = query_database(\"SELECT SUM(Salary) FROM Employees WHERE Department = ?\", (department,))\n",
        "        return result[0][0] if result else \"No salary data found.\"\n",
        "\n",
        "    else:\n",
        "        return \"I'm sorry, I didn't understand that query.\"\n",
        "\n",
        "# Example usage\n",
        "\n",
        "user_input = \"Show me all employees in the engineering department\"\n",
        "result = process_query(user_input)\n",
        "print(result)\n"
      ],
      "metadata": {
        "colab": {
          "base_uri": "https://localhost:8080/"
        },
        "id": "jRXyiGX4Betl",
        "outputId": "6e3586ca-1503-4d1e-80eb-bc1cac505aa8"
      },
      "execution_count": 103,
      "outputs": [
        {
          "output_type": "stream",
          "name": "stdout",
          "text": [
            "[('Bob',)]\n"
          ]
        }
      ]
    },
    {
      "cell_type": "code",
      "source": [
        "def chat():\n",
        "    print(\"Welcome to the Employee Chat Assistant! Type 'exit' to quit.\")\n",
        "    while True:\n",
        "        user_input = input(\"You: \")\n",
        "        if user_input.lower() == 'exit':\n",
        "            print(\"Goodbye!\")\n",
        "            break\n",
        "        response = process_query(user_input)\n",
        "        print(\"Assistant:\", response if response else \"No results found.\")\n",
        "\n",
        "if __name__ == \"__main__\":\n",
        "    create_database()\n",
        "    chat()"
      ],
      "metadata": {
        "colab": {
          "base_uri": "https://localhost:8080/"
        },
        "id": "9ysSStyPeULl",
        "outputId": "7ce7bdf9-3be3-4dc6-d59d-09f05808ec54"
      },
      "execution_count": 107,
      "outputs": [
        {
          "output_type": "stream",
          "name": "stdout",
          "text": [
            "Welcome to the Employee Chat Assistant! Type 'exit' to quit.\n",
            "You: EXIT\n",
            "Goodbye!\n"
          ]
        }
      ]
    }
  ]
}