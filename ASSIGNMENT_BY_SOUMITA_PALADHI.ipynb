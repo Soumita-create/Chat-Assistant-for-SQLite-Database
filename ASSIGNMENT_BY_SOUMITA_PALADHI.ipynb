{
  "nbformat": 4,
  "nbformat_minor": 0,
  "metadata": {
    "colab": {
      "provenance": []
    },
    "kernelspec": {
      "name": "python3",
      "display_name": "Python 3"
    },
    "language_info": {
      "name": "python"
    }
  },
  "cells": [
    {
      "cell_type": "markdown",
      "source": [
        "**Chat Assistant for SQLite Database**"
      ],
      "metadata": {
        "id": "FsMXrF1nfdEY"
      }
    },
    {
      "cell_type": "code",
      "source": [
        "pip install streamlit as st"
      ],
      "metadata": {
        "colab": {
          "base_uri": "https://localhost:8080/"
        },
        "id": "AWp7GIFMcqBX",
        "outputId": "3e3b3ccc-3508-44d0-f913-8f5ec949e4a5"
      },
      "execution_count": 38,
      "outputs": [
        {
          "output_type": "stream",
          "name": "stdout",
          "text": [
            "Collecting streamlit\n",
            "  Using cached streamlit-1.42.0-py2.py3-none-any.whl.metadata (8.9 kB)\n",
            "\u001b[31mERROR: Ignored the following versions that require a different python version: 0.55.2 Requires-Python <3.5\u001b[0m\u001b[31m\n",
            "\u001b[0m\u001b[31mERROR: Could not find a version that satisfies the requirement as (from versions: none)\u001b[0m\u001b[31m\n",
            "\u001b[0m\u001b[31mERROR: No matching distribution found for as\u001b[0m\u001b[31m\n",
            "\u001b[0m"
          ]
        }
      ]
    },
    {
      "cell_type": "code",
      "execution_count": 39,
      "metadata": {
        "id": "1QXf4GlGuLn_"
      },
      "outputs": [],
      "source": [
        "import sqlite3\n",
        "import re\n",
        "\n",
        "#Connect to sqlite database\n",
        "conn = sqlite3.connect(\"your_database_name.db\")\n",
        "\n",
        "#Create a cursor object\n",
        "cursor = conn.cursor()"
      ]
    },
    {
      "cell_type": "code",
      "source": [
        "def create_database(db_name):\n",
        "    import sqlite3\n",
        "    conn = sqlite3.connect(db_name)\n",
        "    cursor = conn.cursor()\n",
        "    cursor.execute(\"\"\"CREATE TABLE IF NOT EXISTS Employees (\n",
        "                        ID INTEGER PRIMARY KEY,\n",
        "                        Name TEXT NOT NULL,\n",
        "                        Department TEXT NOT NULL,\n",
        "                        Salary INTEGER NOT NULL,\n",
        "                        Hire_Date TEXT NOT NULL\n",
        "                    )\"\"\")\n",
        "    conn.commit()\n",
        "    conn.close()\n"
      ],
      "metadata": {
        "id": "nJnPzOn4ikE4"
      },
      "execution_count": 40,
      "outputs": []
    },
    {
      "cell_type": "code",
      "source": [
        "#Create Employees table\n",
        "\n",
        "cursor.execute(\"\"\"\n",
        "    CREATE TABLE IF NOT EXISTS Employees (\n",
        "      ID INTEGER PRIMARY KEY,\n",
        "      Name TEXT NOT NULL,\n",
        "      Department TXT NOT NULL,\n",
        "      Salary INTEGER NOT NULL,\n",
        "      Hire_Date TEXT NOT NULL\n",
        "      )\n",
        "\"\"\")"
      ],
      "metadata": {
        "colab": {
          "base_uri": "https://localhost:8080/"
        },
        "id": "ctWrK4DB0_Dh",
        "outputId": "2a5e1429-ecec-40f2-b698-05f82b7f46e0"
      },
      "execution_count": 41,
      "outputs": [
        {
          "output_type": "execute_result",
          "data": {
            "text/plain": [
              "<sqlite3.Cursor at 0x79e024f2a4c0>"
            ]
          },
          "metadata": {},
          "execution_count": 41
        }
      ]
    },
    {
      "cell_type": "code",
      "source": [
        "#Create Departments table\n",
        "\n",
        "cursor.execute(\"\"\"\n",
        "    CREATE TABLE IF NOT EXISTS Departments (\n",
        "      ID INTEGER PRIMARY KEY,\n",
        "      Name TEXT NOT NULL UNIQUE,\n",
        "      Manager TEXT NOT NULL\n",
        "    )\n",
        "\"\"\")\n"
      ],
      "metadata": {
        "colab": {
          "base_uri": "https://localhost:8080/"
        },
        "id": "j4fiTiFw6T0O",
        "outputId": "0c42b5ae-95b6-45a2-be19-77f1a689d0dc"
      },
      "execution_count": 42,
      "outputs": [
        {
          "output_type": "execute_result",
          "data": {
            "text/plain": [
              "<sqlite3.Cursor at 0x79e024f2a4c0>"
            ]
          },
          "metadata": {},
          "execution_count": 42
        }
      ]
    },
    {
      "cell_type": "code",
      "source": [
        "#Insert sample data\n",
        "\n",
        "cursor.executemany(\"\"\"\n",
        "    INSERT OR IGNORE INTO Employees (ID, Name, Department, Salary, Hire_Date)\n",
        "    VALUES (?, ?, ?, ?, ?)\n",
        "\"\"\",[\n",
        "    (1, 'Alice', 'Sales', 50000, '2021-01-15'),\n",
        "    (2, 'Bob', 'Engineering', 70000, '2020-06-10'),\n",
        "    (3, 'Charlie', 'Marketing', 60000, '2022-03-20')\n",
        "])\n",
        "\n",
        "cursor.executemany(\"\"\"\n",
        "    INSERT OR IGNORE INTO Departments (ID, Name, Manager)\n",
        "    VALUES (?, ?, ?)\n",
        "\"\"\",[\n",
        "    (1, 'Sales', 'Alice'),\n",
        "    (2, 'Engineering', 'Bob'),\n",
        "    (3, 'Marketing', 'Charlie')\n",
        "])"
      ],
      "metadata": {
        "colab": {
          "base_uri": "https://localhost:8080/"
        },
        "id": "mMskcE4l8vRz",
        "outputId": "17296653-1498-4a1e-e7d3-9b8f37940df4"
      },
      "execution_count": 43,
      "outputs": [
        {
          "output_type": "execute_result",
          "data": {
            "text/plain": [
              "<sqlite3.Cursor at 0x79e024f2a4c0>"
            ]
          },
          "metadata": {},
          "execution_count": 43
        }
      ]
    },
    {
      "cell_type": "code",
      "source": [
        "conn.commit()\n",
        "conn.close()"
      ],
      "metadata": {
        "id": "ibBBlHlrAvna"
      },
      "execution_count": 44,
      "outputs": []
    },
    {
      "cell_type": "code",
      "source": [
        "# Function to query the database\n",
        "\n",
        "def query_database(sql, params=()):\n",
        "    try:\n",
        "        conn = sqlite3.connect(\"your_database_name.db\")\n",
        "        cursor = conn.cursor()\n",
        "        cursor.execute(sql, params)\n",
        "        results = cursor.fetchall()\n",
        "        conn.close()\n",
        "        return results\n",
        "    except sqlite3.DatabaseError as e:\n",
        "        print(f\"Database error: {e}\")\n",
        "        return []\n",
        "    except Exception as e:\n",
        "        print(f\"An error occurred: {e}\")\n",
        "        return []\n",
        "\n",
        "# Function to process user input\n",
        "\n",
        "def process_query(user_input):\n",
        "    user_input = user_input.lower()\n",
        "\n",
        "# Match user query patterns\n",
        "\n",
        "    if match := re.search(r\"show me all employees in the (.+) department\", user_input):\n",
        "        department = match.group(1).capitalize()\n",
        "        return query_database(\"SELECT Name FROM Employees WHERE Department = ?\", (department,))\n",
        "\n",
        "    elif match := re.search(r\"who is the manager of the (.+) department\", user_input):\n",
        "        department = match.group(1).capitalize()\n",
        "        return query_database(\"SELECT Manager FROM Departments WHERE Name = ?\", (department,))\n",
        "\n",
        "    elif match := re.search(r\"list all employees hired after (\\d{4}-\\d{2}-\\d{2})\", user_input):\n",
        "        date = match.group(1)\n",
        "        return query_database(\"SELECT Name FROM Employees WHERE Hire_Date > ?\", (date,))\n",
        "\n",
        "    elif match := re.search(r\"what is the total salary expense for the (.+) department\", user_input):\n",
        "        department = match.group(1).capitalize()\n",
        "        result = query_database(\"SELECT SUM(Salary) FROM Employees WHERE Department = ?\", (department,))\n",
        "        return result[0][0] if result else \"No salary data found.\"\n",
        "\n",
        "    else:\n",
        "        return \"I'm sorry, I didn't understand that query.\"\n",
        "\n",
        "# Example usage\n",
        "\n",
        "user_input = \"Show me all employees in the engineering department\"\n",
        "result = process_query(user_input)\n",
        "print(result)\n"
      ],
      "metadata": {
        "colab": {
          "base_uri": "https://localhost:8080/"
        },
        "id": "jRXyiGX4Betl",
        "outputId": "013b7d5e-d81b-4a72-96ba-fccaa89f4d98"
      },
      "execution_count": 45,
      "outputs": [
        {
          "output_type": "stream",
          "name": "stdout",
          "text": [
            "[('Bob',)]\n"
          ]
        }
      ]
    },
    {
      "cell_type": "code",
      "source": [
        "# Chat function to interact with the user\n",
        "\n",
        "def chat():\n",
        "    print(\"\\n Welcome to the Employee Chat Assistant! Type 'exit' to quit.\")\n",
        "    while True:\n",
        "        user_input = input(\"You: \")\n",
        "        if user_input.lower() == 'exit':\n",
        "            print(\" Goodbye!\")\n",
        "            break\n",
        "        response = process_query(user_input)\n",
        "        print(\"Assistant:\", response if response else \"No results found.\")\n",
        "\n",
        "# Run the script\n",
        "if __name__ == \"__main__\":\n",
        "    create_database(\"your_database_name.db\")  # Ensure database is created before running\n",
        "    chat()"
      ],
      "metadata": {
        "colab": {
          "base_uri": "https://localhost:8080/"
        },
        "id": "9ysSStyPeULl",
        "outputId": "4671f49f-4eea-4073-df87-9b952304de88"
      },
      "execution_count": 46,
      "outputs": [
        {
          "output_type": "stream",
          "name": "stdout",
          "text": [
            "\n",
            " Welcome to the Employee Chat Assistant! Type 'exit' to quit.\n",
            "You: exit\n",
            " Goodbye!\n"
          ]
        }
      ]
    }
  ]
}